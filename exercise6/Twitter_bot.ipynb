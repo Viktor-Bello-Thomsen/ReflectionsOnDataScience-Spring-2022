{
 "cells": [
  {
   "cell_type": "markdown",
   "id": "drawn-teacher",
   "metadata": {},
   "source": [
    "## Apply for access to the Twitter API\n",
    "- The first thing you may want to do is create a new Twitter account, even if you already have one. We are going to be liking a lot of essentially random tweets, and your Twitter followers are probably not that interested in seeing that.\n",
    "- When you have created a new Twitter account, log in and go to https://developer.twitter.com/en/apply-for-access\n",
    "- Go through the steps of applying for access"
   ]
  },
  {
   "cell_type": "markdown",
   "id": "expired-exchange",
   "metadata": {},
   "source": [
    "## Create a Twitter Project and app\n",
    "- Go to https://developer.twitter.com/en/portal/dashboard\n",
    "- Select 'Projects & Apps'\n",
    "- Click '+ New Project' and write a name for your project. I went for 'like-experiment'\n",
    "- You will now see three keys: an API key, an API secret key and a Bearer Token. Make sure you copy these keys, e.g. to txt files\n",
    "- Go to the App details page of your app. Under App permissions, click 'Edit' and then change the permissions to 'Read and Write'\n",
    "- Go back to the App details page, click 'Keys and tokens' and generate an 'Access token & secret'. Again, make sure you copy the token and the token secret, e.g. to txt files."
   ]
  },
  {
   "cell_type": "markdown",
   "id": "mineral-enlargement",
   "metadata": {},
   "source": [
    "## Get a tweet by tweet id"
   ]
  },
  {
   "cell_type": "code",
   "execution_count": null,
   "id": "abstract-purple",
   "metadata": {},
   "outputs": [],
   "source": [
    "#bearer auth\n",
    "#https://github.com/twitterdev/Twitter-API-v2-sample-code"
   ]
  },
  {
   "cell_type": "markdown",
   "id": "equivalent-period",
   "metadata": {},
   "source": [
    "## Like a tweet"
   ]
  },
  {
   "cell_type": "code",
   "execution_count": null,
   "id": "intelligent-prediction",
   "metadata": {},
   "outputs": [],
   "source": [
    "#full auth\n",
    "#https://docs.tweepy.org/en/stable/"
   ]
  },
  {
   "cell_type": "markdown",
   "id": "republican-pharmacology",
   "metadata": {},
   "source": [
    "## Connect to the twitter sampled stream"
   ]
  },
  {
   "cell_type": "code",
   "execution_count": null,
   "id": "forced-festival",
   "metadata": {},
   "outputs": [],
   "source": [
    "#bearer auth\n",
    "#https://developer.twitter.com/en/docs/twitter-api/tweets/volume-streams/quick-start/sampled-stream"
   ]
  }
 ],
 "metadata": {
  "kernelspec": {
   "display_name": "Python 3",
   "language": "python",
   "name": "python3"
  },
  "language_info": {
   "codemirror_mode": {
    "name": "ipython",
    "version": 3
   },
   "file_extension": ".py",
   "mimetype": "text/x-python",
   "name": "python",
   "nbconvert_exporter": "python",
   "pygments_lexer": "ipython3",
   "version": "3.9.5"
  }
 },
 "nbformat": 4,
 "nbformat_minor": 5
}
