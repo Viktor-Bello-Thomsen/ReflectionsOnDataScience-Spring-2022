{
 "cells": [
  {
   "cell_type": "markdown",
   "metadata": {},
   "source": [
    "<h1>Reddit randomized controlled experiment</h1>"
   ]
  },
  {
   "cell_type": "code",
   "execution_count": null,
   "metadata": {},
   "outputs": [],
   "source": [
    "import praw"
   ]
  },
  {
   "cell_type": "markdown",
   "metadata": {},
   "source": [
    "<h1>Create a Reddit instance with PRAW</h1>"
   ]
  },
  {
   "cell_type": "code",
   "execution_count": null,
   "metadata": {},
   "outputs": [],
   "source": [
    "def user_login(client_id, client_secret,username,password,user_agent):\n",
    "    # reddit api login\n",
    "    reddit = praw.Reddit(client_id=client_id,\n",
    "                         client_secret=client_secret,\n",
    "                         username=username,\n",
    "                         password=password,\n",
    "                         user_agent=user_agent)\n",
    "    return reddit\n",
    "\n",
    "reddit = user_login('put here your client_id', 'put here your client_secret','put here your username','put here your password','put here your user agent')"
   ]
  },
  {
   "cell_type": "markdown",
   "metadata": {},
   "source": [
    "Test if everything went fine by retriving a reddit post."
   ]
  },
  {
   "cell_type": "code",
   "execution_count": null,
   "metadata": {},
   "outputs": [],
   "source": [
    "#Reddit post: https://www.reddit.com/r/AskReddit/comments/t33bgl/whats_not_a_drug_but_is_so_addictive_that_it/\n",
    "#id = t33bgl\n",
    "submission = reddit.submission(\"t33bgl\")\n",
    "print('Post title: {}\\n'.format(submission.title))\n",
    "print('Post content: {}\\n'.format(submission.selftext))\n",
    "print('Post number os comments: {}\\n'.format(submission.num_comments))\n",
    "print('Post url: {}\\n'.format(submission.url))\n",
    "\n",
    "#search the API and print more information associated with the post."
   ]
  },
  {
   "cell_type": "markdown",
   "metadata": {},
   "source": [
    "<h1>Upvote a post</h1>"
   ]
  },
  {
   "cell_type": "code",
   "execution_count": null,
   "metadata": {},
   "outputs": [],
   "source": [
    "#read the documentation: https://praw.readthedocs.io/en/latest/"
   ]
  },
  {
   "cell_type": "markdown",
   "metadata": {},
   "source": [
    "<h1>Get newly created posts</h1>"
   ]
  },
  {
   "cell_type": "code",
   "execution_count": null,
   "metadata": {},
   "outputs": [],
   "source": [
    "#read the documentation: https://praw.readthedocs.io/en/latest/"
   ]
  },
  {
   "cell_type": "markdown",
   "metadata": {},
   "source": [
    "<h1>Create a Reddit posts stream</h1>"
   ]
  },
  {
   "cell_type": "code",
   "execution_count": null,
   "metadata": {},
   "outputs": [],
   "source": [
    "#read the documentation: https://praw.readthedocs.io/en/latest/"
   ]
  },
  {
   "cell_type": "markdown",
   "metadata": {},
   "source": [
    "<h1>Create control and treatment groups</h1>"
   ]
  },
  {
   "cell_type": "code",
   "execution_count": null,
   "metadata": {},
   "outputs": [],
   "source": []
  }
 ],
 "metadata": {
  "kernelspec": {
   "display_name": "Python 3",
   "language": "python",
   "name": "python3"
  },
  "language_info": {
   "codemirror_mode": {
    "name": "ipython",
    "version": 3
   },
   "file_extension": ".py",
   "mimetype": "text/x-python",
   "name": "python",
   "nbconvert_exporter": "python",
   "pygments_lexer": "ipython3",
   "version": "3.9.5"
  }
 },
 "nbformat": 4,
 "nbformat_minor": 4
}
